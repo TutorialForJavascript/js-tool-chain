{
 "cells": [
  {
   "cell_type": "markdown",
   "metadata": {},
   "source": [
    "# api文档自动生成\n",
    "\n",
    "python可以使用段注释自动的生成文档,但js不行,必须借助第三方工具实现,这个工具就是`esdoc`\n",
    "\n",
    "安装依然是\n",
    "\n",
    "```shell\n",
    "npm install esdoc --save-dev\n",
    "```\n",
    "\n",
    "之后使用我们看个例子"
   ]
  },
  {
   "cell_type": "markdown",
   "metadata": {},
   "source": [
    ">例1: 用esdoc生成api文档并输出html文档"
   ]
  },
  {
   "cell_type": "markdown",
   "metadata": {},
   "source": [
    "1. js文件:\n",
    "\n",
    "    ```javascript\n",
    "    /**\n",
    "     * this is MyClass.\n",
    "     */\n",
    "    export default class MyClass {\n",
    "      /**\n",
    "       * @param {number} param this is param.\n",
    "       * @return {number} this is return.\n",
    "       */\n",
    "      method(param){}\n",
    "    }\n",
    "\n",
    "    ```\n",
    "\n",
    "    看注释,使用\n",
    "\n",
    "    ```javascript\n",
    "    /**\n",
    "    *\n",
    "    */\n",
    "    ```\n",
    "\n",
    "    包裹的注释可以成为文档,其中使用@开头的行会被辨识为是有特殊意义的标签\n",
    "\n",
    "    所有的标签说明可以在[官网](https://esdoc.org/tags.html)找到\n",
    "\n",
    "    需要注意的是:\n",
    "\n",
    "    ```\n",
    "    @param {number} param this is param.\n",
    "    ```\n",
    "\n",
    "    代表输入的形参属性,要有几个参数写几个,按顺序写,`{number}`表示类型,`param`是形参名 后面的是说明\n",
    "\n",
    "2. 写配置\n",
    "\n",
    "    esdoc支持在package.json中设置,使用字段`\"esdoc\"`\n",
    "\n",
    "    ```json\n",
    "    {...,\n",
    "        \"esdoc\": {\n",
    "            \"destination\": \"./docs\",\n",
    "            \"source\": \"./es\",\n",
    "            \"includes\": [r\"\\\\.js$\"],\n",
    "            \"excludes\": [r\"\\\\.config\\\\.js$\"],\n",
    "            \"coverage\": true,//是否统计覆盖率\n",
    "            \"plugins\": [\n",
    "                {\n",
    "                    \"name\": \"esdoc-standard-plugin\"\n",
    "                }\n",
    "            ]\n",
    "        },\n",
    "    ...\n",
    "    }\n",
    "\n",
    "    ```\n",
    "\n",
    "3. 使用\n",
    "\n",
    "    可以使用命令`esdoc`来生成一个接口的静态页面,而且默认的还会把项目下的README.md文件渲染进去作为主页\n",
    "    \n",
    "    但更常见的用法是在package.json中设置scripts\n",
    "    ```json\n",
    "    {...,\n",
    "        \"scripts\":{\n",
    "             ...\n",
    "             \"doc\": \"./node_modules/.bin/esdoc\",\n",
    "             ...\n",
    "        },\n",
    "    ...\n",
    "    }\n",
    "    ```\n",
    "    要使用只需要执行命令`npm run doc`即可"
   ]
  },
  {
   "cell_type": "markdown",
   "metadata": {},
   "source": [
    "如果要写项目文档,光API文档肯定不够,我们可以[使用sphinx来构建项目的文档](http://blog.hszofficial.site/blog/2016/11/29/%E4%BD%BF%E7%94%A8sphinx%E7%BB%93%E5%90%88markdown%E5%86%99%E9%A1%B9%E7%9B%AE%E6%96%87%E6%A1%A3/)配合sphinxcontrib-autojs插件来构建"
   ]
  }
 ],
 "metadata": {
  "anaconda-cloud": {},
  "kernelspec": {
   "display_name": "jp-Babel (Node.js)",
   "language": "babel",
   "name": "babel"
  },
  "language_info": {
   "file_extension": ".js",
   "mimetype": "application/javascript",
   "name": "javascript",
   "version": "8.10.0"
  }
 },
 "nbformat": 4,
 "nbformat_minor": 1
}
